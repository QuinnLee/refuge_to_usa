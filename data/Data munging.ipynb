{
 "cells": [
  {
   "cell_type": "code",
   "execution_count": 148,
   "metadata": {
    "collapsed": false
   },
   "outputs": [],
   "source": [
    "from geopy.geocoders import Nominatim\n",
    "geolocator = Nominatim()"
   ]
  },
  {
   "cell_type": "code",
   "execution_count": 149,
   "metadata": {
    "collapsed": true
   },
   "outputs": [],
   "source": [
    "import pandas as pd"
   ]
  },
  {
   "cell_type": "code",
   "execution_count": 150,
   "metadata": {
    "collapsed": false
   },
   "outputs": [],
   "source": [
    "df = pd.read_csv('./data.csv')\n",
    "df.tail()\n",
    "# rename 'Burkina Faso (UVolta)' to 'Burkina Faso'\n",
    "# rename 'Madagascar (Malagasy Republic)' to 'Madagascar'\n",
    "# rename 'Sri Lanka (Ceylon)' to 'Sri Lanka'\n",
    "\n",
    "remap = {\n",
    "    'Burkina Faso (UVolta)': 'Burkina Faso',\n",
    "    'Madagascar (Malagasy Republic)': 'Madagascar', \n",
    "    'Sri Lanka (Ceylon)': 'Sri Lanka' \n",
    "}\n",
    "\n",
    "df['origin'].replace(remap, inplace= True)\n"
   ]
  },
  {
   "cell_type": "code",
   "execution_count": 151,
   "metadata": {
    "collapsed": false,
    "scrolled": true
   },
   "outputs": [
    {
     "data": {
      "text/html": [
       "<div>\n",
       "<table border=\"1\" class=\"dataframe\">\n",
       "  <thead>\n",
       "    <tr style=\"text-align: right;\">\n",
       "      <th></th>\n",
       "      <th>year</th>\n",
       "      <th>origin</th>\n",
       "      <th>dest_state</th>\n",
       "      <th>arrivals</th>\n",
       "    </tr>\n",
       "  </thead>\n",
       "  <tbody>\n",
       "    <tr>\n",
       "      <th>19982</th>\n",
       "      <td>2015</td>\n",
       "      <td>Zimbabwe</td>\n",
       "      <td>New York</td>\n",
       "      <td>0</td>\n",
       "    </tr>\n",
       "    <tr>\n",
       "      <th>19983</th>\n",
       "      <td>2015</td>\n",
       "      <td>Zimbabwe</td>\n",
       "      <td>North Carolina</td>\n",
       "      <td>0</td>\n",
       "    </tr>\n",
       "    <tr>\n",
       "      <th>19984</th>\n",
       "      <td>2015</td>\n",
       "      <td>Zimbabwe</td>\n",
       "      <td>Ohio</td>\n",
       "      <td>0</td>\n",
       "    </tr>\n",
       "    <tr>\n",
       "      <th>19985</th>\n",
       "      <td>2015</td>\n",
       "      <td>Zimbabwe</td>\n",
       "      <td>Tennessee</td>\n",
       "      <td>0</td>\n",
       "    </tr>\n",
       "    <tr>\n",
       "      <th>19986</th>\n",
       "      <td>2015</td>\n",
       "      <td>Zimbabwe</td>\n",
       "      <td>Texas</td>\n",
       "      <td>0</td>\n",
       "    </tr>\n",
       "  </tbody>\n",
       "</table>\n",
       "</div>"
      ],
      "text/plain": [
       "       year    origin      dest_state  arrivals\n",
       "19982  2015  Zimbabwe        New York         0\n",
       "19983  2015  Zimbabwe  North Carolina         0\n",
       "19984  2015  Zimbabwe            Ohio         0\n",
       "19985  2015  Zimbabwe       Tennessee         0\n",
       "19986  2015  Zimbabwe           Texas         0"
      ]
     },
     "execution_count": 151,
     "metadata": {},
     "output_type": "execute_result"
    }
   ],
   "source": [
    "df = df.groupby(['year', 'origin', 'dest_state']).sum().reset_index()\n",
    "df.tail()"
   ]
  },
  {
   "cell_type": "code",
   "execution_count": 152,
   "metadata": {
    "collapsed": false
   },
   "outputs": [],
   "source": [
    "states = df['dest_state'].unique()"
   ]
  },
  {
   "cell_type": "code",
   "execution_count": 153,
   "metadata": {
    "collapsed": false
   },
   "outputs": [],
   "source": [
    "state_locations = {}\n",
    "for state in states:\n",
    "    geo = geolocator.geocode(state)\n",
    "    if(geo):\n",
    "        state_locations[state] = {'long': geo.longitude, 'lat': geo.latitude}\n",
    "        "
   ]
  },
  {
   "cell_type": "code",
   "execution_count": 154,
   "metadata": {
    "collapsed": false
   },
   "outputs": [
    {
     "data": {
      "text/plain": [
       "array(['Afghanistan', 'Albania', 'Algeria', 'Angola', 'Armenia',\n",
       "       'Azerbaijan', 'Bangladesh', 'Belarus', 'Benin', 'Bhutan',\n",
       "       'Bosnia and Herzegovina', 'Bulgaria', 'Burkina Faso', 'Burma',\n",
       "       'Burundi', 'Cambodia', 'Cameroon', 'Canada',\n",
       "       'Central African Republic', 'Chad', 'China', 'Colombia', 'Congo',\n",
       "       'Costa Rica', 'Croatia', 'Cuba', 'Dem. Rep. Congo', 'Djibouti',\n",
       "       'Ecuador', 'Egypt', 'El Salvador', 'Equatorial Guinea', 'Eritrea',\n",
       "       'Estonia', 'Ethiopia', 'France', 'Gabon', 'Gambia', 'Gaza Strip',\n",
       "       'Georgia', 'Germany', 'Ghana', 'Guatemala', 'Guinea',\n",
       "       'Guinea - Bissau', 'Haiti', 'Honduras', 'India', 'Indonesia',\n",
       "       'Iran', 'Iraq', 'Israel', 'Ivory Coast', 'Jamaica', 'Jordan',\n",
       "       'Kazakhstan', 'Kenya', 'Korea, North', 'Kuwait', 'Kyrgyzstan',\n",
       "       'Laos', 'Latvia', 'Lebanon', 'Liberia', 'Libya', 'Lithuania',\n",
       "       'Macedonia', 'Madagascar', 'Malaysia', 'Mali', 'Mauritania',\n",
       "       'Moldova', 'Montenegro', 'Morocco', 'Namibia', 'Nepal',\n",
       "       'Netherlands', 'Niger', 'Nigeria', 'Pakistan', 'Palestine',\n",
       "       'Philippines', 'Republic of South Sudan', 'Russia', 'Rwanda',\n",
       "       'Saudi Arabia', 'Senegal', 'Serbia', 'Sierra Leone', 'Somalia',\n",
       "       'South Africa', 'Sri Lanka', 'Sudan', 'Sweden', 'Syria',\n",
       "       'Tajikistan', 'Tanzania', 'Thailand', 'Tibet', 'Togo', 'Tunisia',\n",
       "       'Turkey', 'Turkmenistan', 'Uganda', 'Ukraine',\n",
       "       'United Arab Emirates', 'United Kingdom', 'Uzbekistan', 'Venezuela',\n",
       "       'Vietnam', 'Yemen', 'Zambia', 'Zimbabwe'], dtype=object)"
      ]
     },
     "execution_count": 154,
     "metadata": {},
     "output_type": "execute_result"
    }
   ],
   "source": [
    "origins = df['origin'].unique()\n",
    "origins"
   ]
  },
  {
   "cell_type": "code",
   "execution_count": 155,
   "metadata": {
    "collapsed": false
   },
   "outputs": [],
   "source": [
    "origin_locations = {}\n",
    "for origin in origins:\n",
    "    geo = geolocator.geocode(origin)\n",
    "    if(geo):\n",
    "        origin_locations[origin] = {'long': geo.longitude, 'lat': geo.latitude}"
   ]
  },
  {
   "cell_type": "code",
   "execution_count": 156,
   "metadata": {
    "collapsed": false
   },
   "outputs": [
    {
     "data": {
      "text/html": [
       "<div>\n",
       "<table border=\"1\" class=\"dataframe\">\n",
       "  <thead>\n",
       "    <tr style=\"text-align: right;\">\n",
       "      <th></th>\n",
       "      <th>year</th>\n",
       "      <th>origin</th>\n",
       "      <th>dest_state</th>\n",
       "      <th>arrivals</th>\n",
       "    </tr>\n",
       "  </thead>\n",
       "  <tbody>\n",
       "    <tr>\n",
       "      <th>19982</th>\n",
       "      <td>2015</td>\n",
       "      <td>Zimbabwe</td>\n",
       "      <td>New York</td>\n",
       "      <td>0</td>\n",
       "    </tr>\n",
       "    <tr>\n",
       "      <th>19983</th>\n",
       "      <td>2015</td>\n",
       "      <td>Zimbabwe</td>\n",
       "      <td>North Carolina</td>\n",
       "      <td>0</td>\n",
       "    </tr>\n",
       "    <tr>\n",
       "      <th>19984</th>\n",
       "      <td>2015</td>\n",
       "      <td>Zimbabwe</td>\n",
       "      <td>Ohio</td>\n",
       "      <td>0</td>\n",
       "    </tr>\n",
       "    <tr>\n",
       "      <th>19985</th>\n",
       "      <td>2015</td>\n",
       "      <td>Zimbabwe</td>\n",
       "      <td>Tennessee</td>\n",
       "      <td>0</td>\n",
       "    </tr>\n",
       "    <tr>\n",
       "      <th>19986</th>\n",
       "      <td>2015</td>\n",
       "      <td>Zimbabwe</td>\n",
       "      <td>Texas</td>\n",
       "      <td>0</td>\n",
       "    </tr>\n",
       "  </tbody>\n",
       "</table>\n",
       "</div>"
      ],
      "text/plain": [
       "       year    origin      dest_state  arrivals\n",
       "19982  2015  Zimbabwe        New York         0\n",
       "19983  2015  Zimbabwe  North Carolina         0\n",
       "19984  2015  Zimbabwe            Ohio         0\n",
       "19985  2015  Zimbabwe       Tennessee         0\n",
       "19986  2015  Zimbabwe           Texas         0"
      ]
     },
     "execution_count": 156,
     "metadata": {},
     "output_type": "execute_result"
    }
   ],
   "source": [
    "df.tail(5)"
   ]
  },
  {
   "cell_type": "code",
   "execution_count": 157,
   "metadata": {
    "collapsed": true
   },
   "outputs": [],
   "source": [
    "df.reset_index().to_json('data-with-coord.json', orient='records')"
   ]
  },
  {
   "cell_type": "code",
   "execution_count": 158,
   "metadata": {
    "collapsed": false
   },
   "outputs": [
    {
     "data": {
      "text/plain": [
       "{'Afghanistan': {'lat': 33.0000866, 'long': 64.9998468},\n",
       " 'Albania': {'lat': 41.000028, 'long': 19.9999619},\n",
       " 'Algeria': {'lat': 28.0000272, 'long': 2.9999825},\n",
       " 'Angola': {'lat': -11.8775767, 'long': 17.5691241},\n",
       " 'Armenia': {'lat': 40.7696272, 'long': 44.6736646},\n",
       " 'Azerbaijan': {'lat': 40.3936294, 'long': 47.7872508},\n",
       " 'Bangladesh': {'lat': 24.4768783, 'long': 90.2932426},\n",
       " 'Belarus': {'lat': 53.4250605, 'long': 27.6971358},\n",
       " 'Benin': {'lat': 9.5293472, 'long': 2.2584408},\n",
       " 'Bhutan': {'lat': 27.549511, 'long': 90.5119273},\n",
       " 'Bosnia and Herzegovina': {'lat': 44.3053476, 'long': 17.5961467},\n",
       " 'Bulgaria': {'lat': 42.6073975, 'long': 25.4856617},\n",
       " 'Burkina Faso': {'lat': 12.0753083, 'long': -1.6880313},\n",
       " 'Burma': {'lat': 17.1750495, 'long': 95.9999652},\n",
       " 'Burundi': {'lat': -3.3634356, 'long': 29.8870575},\n",
       " 'Cambodia': {'lat': 13.5066394, 'long': 104.869423},\n",
       " 'Cameroon': {'lat': 4.6125522, 'long': 13.1535811},\n",
       " 'Canada': {'lat': 61.0666922, 'long': -107.991707},\n",
       " 'Central African Republic': {'lat': 25.2183959, 'long': 55.1752385762154},\n",
       " 'Chad': {'lat': 15.6134137, 'long': 19.0156172},\n",
       " 'China': {'lat': 35.000074, 'long': 104.999927},\n",
       " 'Colombia': {'lat': 2.893108, 'long': -73.7845142},\n",
       " 'Congo': {'lat': -2.9814343, 'long': 23.8222636},\n",
       " 'Costa Rica': {'lat': 10.2735633, 'long': -84.0739101},\n",
       " 'Croatia': {'lat': 45.5643442, 'long': 17.0118954},\n",
       " 'Cuba': {'lat': 23.0131338, 'long': -80.8328747},\n",
       " 'Dem. Rep. Congo': {'lat': 9.0068596, 'long': 38.7695771},\n",
       " 'Djibouti': {'lat': 11.85677545, 'long': 42.7577845199437},\n",
       " 'Ecuador': {'lat': -1.3397667, 'long': -79.3666964},\n",
       " 'Egypt': {'lat': 26.2540493, 'long': 29.2675469},\n",
       " 'El Salvador': {'lat': 13.8000382, 'long': -88.9140682},\n",
       " 'Equatorial Guinea': {'lat': 1.613172, 'long': 10.5170357},\n",
       " 'Eritrea': {'lat': 15.9500319, 'long': 37.9999668},\n",
       " 'Estonia': {'lat': 58.7523778, 'long': 25.3319078},\n",
       " 'Ethiopia': {'lat': 10.2116702, 'long': 38.6521203},\n",
       " 'France': {'lat': 46.603354, 'long': 1.8883335},\n",
       " 'Gabon': {'lat': -0.8999694, 'long': 11.6899699},\n",
       " 'Gambia': {'lat': 13.470062, 'long': -15.4900463},\n",
       " 'Gaza Strip': {'lat': 31.4331663, 'long': 34.3779285},\n",
       " 'Georgia': {'lat': 32.3293809, 'long': -83.1137365},\n",
       " 'Germany': {'lat': 51.0834196, 'long': 10.4234469},\n",
       " 'Ghana': {'lat': 8.0300284, 'long': -1.080027},\n",
       " 'Guatemala': {'lat': 15.6356088, 'long': -89.8988086},\n",
       " 'Guinea': {'lat': 10.7226226, 'long': -10.7083586},\n",
       " 'Guinea - Bissau': {'lat': 12.100035, 'long': -14.9000213},\n",
       " 'Haiti': {'lat': 19.1399952, 'long': -72.3570971},\n",
       " 'Honduras': {'lat': 15.0610686, 'long': -84.5978533},\n",
       " 'India': {'lat': 22.3511148, 'long': 78.6677428},\n",
       " 'Indonesia': {'lat': -4.7993355, 'long': 114.5632032},\n",
       " 'Iran': {'lat': 32.9407496, 'long': 52.9471344},\n",
       " 'Iraq': {'lat': 33.0955793, 'long': 44.1749775},\n",
       " 'Israel': {'lat': 30.8760272, 'long': 35.0015196},\n",
       " 'Ivory Coast': {'lat': 7.9897371, 'long': -5.5679457},\n",
       " 'Jamaica': {'lat': 18.1850507, 'long': -77.3947692},\n",
       " 'Jordan': {'lat': 31.1667049, 'long': 36.941628},\n",
       " 'Kazakhstan': {'lat': 47.2286086, 'long': 65.2093197},\n",
       " 'Kenya': {'lat': 1.4419683, 'long': 38.4313975},\n",
       " 'Korea, North': {'lat': 61.18541105, 'long': 6.81350883350348},\n",
       " 'Kuwait': {'lat': 29.2733964, 'long': 47.4979476},\n",
       " 'Kyrgyzstan': {'lat': 41.5089324, 'long': 74.724091},\n",
       " 'Laos': {'lat': 20.0171109, 'long': 103.378253},\n",
       " 'Latvia': {'lat': 56.8666904, 'long': 24.5999717},\n",
       " 'Lebanon': {'lat': 33.8750629, 'long': 35.843409},\n",
       " 'Liberia': {'lat': 5.7499721, 'long': -9.3658523},\n",
       " 'Libya': {'lat': 26.8234472, 'long': 18.1236723},\n",
       " 'Lithuania': {'lat': 55.3500003, 'long': 23.7499998},\n",
       " 'Macedonia': {'lat': 41.6171214, 'long': 21.7168387},\n",
       " 'Madagascar': {'lat': -18.9249603, 'long': 46.4416422},\n",
       " 'Malaysia': {'lat': 2.3923759, 'long': 112.8471939},\n",
       " 'Mali': {'lat': 16.3700359, 'long': -2.2900238},\n",
       " 'Mauritania': {'lat': 20.2540382, 'long': -9.2399262},\n",
       " 'Moldova': {'lat': 47.286747, 'long': 28.5110236},\n",
       " 'Montenegro': {'lat': 43.0285558, 'long': 19.291739},\n",
       " 'Morocco': {'lat': 31.1728192, 'long': -7.3366042},\n",
       " 'Namibia': {'lat': -23.2335498, 'long': 17.3231107},\n",
       " 'Nepal': {'lat': 28.1082107, 'long': 84.0917515},\n",
       " 'Netherlands': {'lat': 52.2379891, 'long': 5.53460738161551},\n",
       " 'Niger': {'lat': 17.7356214, 'long': 9.3238432},\n",
       " 'Nigeria': {'lat': 9.6000359, 'long': 7.9999721},\n",
       " 'Pakistan': {'lat': 30.3308401, 'long': 71.247499},\n",
       " 'Palestine': {'lat': 31.649741, 'long': 35.162072},\n",
       " 'Philippines': {'lat': 12.7503486, 'long': 122.7312101},\n",
       " 'Republic of South Sudan': {'lat': 7.8699431, 'long': 29.6667897},\n",
       " 'Russia': {'lat': 64.6863136, 'long': 97.7453061},\n",
       " 'Rwanda': {'lat': -1.964663, 'long': 30.0644358},\n",
       " 'Saudi Arabia': {'lat': 25.6242618, 'long': 42.3528328},\n",
       " 'Senegal': {'lat': 14.4750607, 'long': -14.4529611},\n",
       " 'Serbia': {'lat': 44.1534121, 'long': 20.55144},\n",
       " 'Sierra Leone': {'lat': 8.6400349, 'long': -11.8400268},\n",
       " 'Somalia': {'lat': 8.3676771, 'long': 49.083416},\n",
       " 'South Africa': {'lat': -28.8166235, 'long': 24.991639},\n",
       " 'Sri Lanka': {'lat': 7.878, 'long': 80.7038245875},\n",
       " 'Sudan': {'lat': 15.45374395, 'long': 29.7951525192217},\n",
       " 'Sweden': {'lat': 59.6749712, 'long': 14.5208584},\n",
       " 'Syria': {'lat': 34.6401861, 'long': 39.0494106},\n",
       " 'Tajikistan': {'lat': 38.6281733, 'long': 70.8156541},\n",
       " 'Tanzania': {'lat': -6.5247122, 'long': 35.7878438},\n",
       " 'Thailand': {'lat': 14.8971921, 'long': 100.83273},\n",
       " 'Tibet': {'lat': 32.0000002, 'long': 89.9999998},\n",
       " 'Togo': {'lat': 8.7800265, 'long': 1.0199765},\n",
       " 'Tunisia': {'lat': 33.8439408, 'long': 9.400138},\n",
       " 'Turkey': {'lat': 38.9597594, 'long': 34.9249653},\n",
       " 'Turkmenistan': {'lat': 39.3763807, 'long': 59.3924609},\n",
       " 'Uganda': {'lat': 1.5333554, 'long': 32.2166578},\n",
       " 'Ukraine': {'lat': 49.4871968, 'long': 31.2718321},\n",
       " 'United Arab Emirates': {'lat': 24.0002488, 'long': 53.9994829},\n",
       " 'United Kingdom': {'lat': 54.7023545, 'long': -3.2765752},\n",
       " 'Uzbekistan': {'lat': 41.32373, 'long': 63.9528098},\n",
       " 'Venezuela': {'lat': 8.0018709, 'long': -66.1109317},\n",
       " 'Vietnam': {'lat': 13.2904027, 'long': 108.4265113},\n",
       " 'Yemen': {'lat': 16.3471243, 'long': 47.8915271},\n",
       " 'Zambia': {'lat': -14.5186238, 'long': 27.5599164},\n",
       " 'Zimbabwe': {'lat': -18.4554962, 'long': 29.7468414}}"
      ]
     },
     "execution_count": 158,
     "metadata": {},
     "output_type": "execute_result"
    }
   ],
   "source": [
    "origin_locations"
   ]
  },
  {
   "cell_type": "code",
   "execution_count": null,
   "metadata": {
    "collapsed": true
   },
   "outputs": [],
   "source": []
  }
 ],
 "metadata": {
  "kernelspec": {
   "display_name": "Python 3",
   "language": "python",
   "name": "python3"
  },
  "language_info": {
   "codemirror_mode": {
    "name": "ipython",
    "version": 3
   },
   "file_extension": ".py",
   "mimetype": "text/x-python",
   "name": "python",
   "nbconvert_exporter": "python",
   "pygments_lexer": "ipython3",
   "version": "3.5.1"
  }
 },
 "nbformat": 4,
 "nbformat_minor": 0
}
